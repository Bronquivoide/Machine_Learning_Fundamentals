{
  "nbformat": 4,
  "nbformat_minor": 0,
  "metadata": {
    "colab": {
      "provenance": []
    },
    "kernelspec": {
      "name": "python3",
      "display_name": "Python 3"
    },
    "language_info": {
      "name": "python"
    }
  },
  "cells": [
    {
      "cell_type": "markdown",
      "source": [
        "# **Normalización y Estandarización con Scikit-learn**\n",
        "\n",
        "\n",
        "\n",
        "\n",
        "---\n",
        "---\n",
        "\n",
        "### **Estandarización y Normalización**\n",
        "\n",
        "Los algoritmos de Machine Learning (ML) suelen sensibles a la escala de los datos, a la magnitud de los valores. Por ello, es necesario transformar adecuadamente las características numéricas antes del entrenamiento. Las dos técnicas más comunes para esto son:\n",
        "\n",
        "-  Normalización (Min-Max Scaling).\n",
        "\n",
        "-  Estandarización (Z-score Scaling).\n",
        "\n",
        "Los procesos de normalización y estandarización deben implementarse solo cuando sea necesario pues se puede modificar los datos y su forma de interpretación.\n",
        "\n",
        "Los datos solamente pueden ser estandarizados si siguen una distribución que tiende a ser normal, por ello, primeramente se normalizan.\n",
        "\n",
        "\n",
        "---\n",
        "\n",
        "### **Normalización con scikit-learn**\n",
        "\n",
        "Recordemos que uno de los requisitos que deben tener las bases de datos para implementar modelos de ML con Python es que deben estar bajo un formato de dataframe de Pandas.\n",
        "\n",
        "La normalización o método Min-Max Scaling con scikit-learn, normaliza los valores de una columna del dataframe mediante la ecuación:\n",
        "\n",
        "$$\n",
        "(x_i)_{\\text{norm}}=\\frac{x_i - x_{min}}{x_{max}-x_{min}} \\in [-1,1]\n",
        "$$\n",
        "\n",
        "En donde $x_{min}$ es el valor mínimo presente en la columna, y $x_{max}$ el más grande.\n",
        "\n",
        "La sintaxis para normalizar una columna de un dataframe de Pandas con el módulo sklearn.preprocessing es:\n",
        "\n",
        "    import pandas as pd\n",
        "    from sklearn.preprocessing import MinMaxScaler\n",
        "    scaler = MinMaxScaler()\n",
        "    df['col'] = scaler.fit_transform(df[['col']])\n",
        "\n",
        "---\n",
        "\n",
        "### **Estandarización con scikit-learn**\n",
        "\n",
        "La estandarización o método Z-score Scaling con scikit-learn de los valores de la columna normalizada (pues la hemos hecho seguir una discribución que tiende a ser normal), es mediante la ecuación:\n",
        "\n",
        "$$\n",
        "z_i=\\frac{x_i - μ}{σ}\n",
        "$$\n",
        "\n",
        "En donde $\\mu$ es el promedio asociado a la columna, y $σ$ la desviación estándar.\n",
        "\n",
        "La sintaxis es:\n",
        "\n",
        "    import pandas as pd\n",
        "    from sklearn.preprocessing import StandardScaler\n",
        "    scaler = StandardScaler()\n",
        "    df['col'] = scaler.fit_transform(df['col'])\n",
        "\n",
        "---\n",
        "\n",
        "### **Escalar evitando la fuga de datos**\n",
        "\n",
        "StandardScaler() también se puede trabajar sobre las [divisiones del conjunto de datos](https://github.com/Bronquivoide/Machine_Learning_Fundamentals/blob/main/Supervised%20Learning/Aprendizaje%20Supervisado%20con%20Scikit-learn.pdf) (train y test), evitando así la fuga de datos.\n",
        "\n",
        "\n",
        "La fuga de datos ocurre cuando se utilizan datos que no corresponden al conjunto de entrenamiendo para entrenar el modelo, por ejemplo, puede llegar a usarse el test set ya sea durante el propio entrenamiento del modelo o durante las etapas de preprocesamiento que afectan al entrenamiento, lo cual genera un modelo que no generaliza bien, un modelo poco robusto.\n",
        "\n",
        "Por las razones anteriores es que se suele dividir el conjunto de datos en training y test antes de la imputación o del escalamiento de valores.\n",
        "\n",
        "La sintaxis para escalar evitando la fuga de datos es:\n",
        "\n",
        "\n",
        "    from sklearn.model_selection import train_test_split\n",
        "    from sklearn.module import Model\n",
        "\n",
        "    X_train, X_test, y_train, y_test = train_test_split(X, y, stratify=y, random_state=42)\n",
        "    model = Model()\n",
        "    scaler = StandardScaler()\n",
        "\n",
        "    #Calculamos y aplicamos el escalado al conjunto de entrenamiento:\n",
        "    X_train_scaled = scaler.fit_transform(X_train)\n",
        "\n",
        "    #Usamos los parámetros aprendidos en el entrenamiento para escalar el conjunto de prueba:\n",
        "    X_test_scaled = scaler.transform(X_test)\n",
        "    #Nota: Nunca se ajusta el escalador sobre el test set\n",
        "\n",
        "    model.fit(X_train_scaled, y_train)\n",
        "    model.score(X_test_scaled, y_test)\n",
        "\n",
        "\n",
        "\n",
        "---\n",
        "### **Normalización o transformación logarítmica**\n",
        "\n",
        "Comunmente cuando se tiene un dataframe en Pandas con una columna a cuyos datos se le asocia una varianza grande con respecto a las demás columnas, transformamos cada una de estas características de la siguiente forma:\n",
        "\n",
        "$$\n",
        "x →log(x)\n",
        "$$\n",
        "\n",
        "La sintaxis para un dataframe de Pandas es:\n",
        "\n",
        "    import numpy as np\n",
        "    import pandas as pd\n",
        "\n",
        "    #Checando la varianza de cada columna:\n",
        "    df.var()\n",
        "\n",
        "    #log-transform para una columna arbitraria con una varianza alta:\n",
        "    df['columna_log'] = np.log(df['columna'])\n",
        "\n",
        "\n",
        "\n",
        "---\n",
        "\n",
        "### **Ejemplo: insurance.csv**\n",
        "\n",
        "Ejemplificaremos el proceso de normalización y estandarización en scikit-learn mediante una base de datos sobre un seguro médico.\n",
        "\n",
        "Un problema que se puede abordar con este dataset es el de analizar el costo total de un seguro médico.\n"
      ],
      "metadata": {
        "id": "J03CrZCCEyon"
      }
    },
    {
      "cell_type": "code",
      "source": [
        "from google.colab import drive\n",
        "drive.mount('/content/drive')\n",
        "\n",
        "file_path = '/content/drive/MyDrive/Colab Notebooks/Preprocesamiento/insurance.csv'\n",
        "\n"
      ],
      "metadata": {
        "id": "orzIJP05e1VZ",
        "outputId": "09d4dbad-cd3c-4bd6-c55b-f14a8d41e076",
        "colab": {
          "base_uri": "https://localhost:8080/"
        }
      },
      "execution_count": null,
      "outputs": [
        {
          "output_type": "stream",
          "name": "stdout",
          "text": [
            "Drive already mounted at /content/drive; to attempt to forcibly remount, call drive.mount(\"/content/drive\", force_remount=True).\n"
          ]
        }
      ]
    },
    {
      "cell_type": "code",
      "source": [
        "import pandas as pd\n",
        "import numpy as np\n",
        "import matplotlib.pyplot as plt\n",
        "\n",
        "df = pd.read_csv(file_path)\n",
        "display(df.head())\n",
        "print('------------------------')\n",
        "\n",
        "display(df.dtypes)\n",
        "print('------------------------')"
      ],
      "metadata": {
        "id": "KUZKE3H4mfpq",
        "colab": {
          "base_uri": "https://localhost:8080/",
          "height": 527
        },
        "outputId": "e6356289-bbe8-428c-e13b-87d00971c5e5"
      },
      "execution_count": null,
      "outputs": [
        {
          "output_type": "display_data",
          "data": {
            "text/plain": [
              "   age     sex     bmi  children smoker     region      charges\n",
              "0   19  female  27.900         0    yes  southwest  16884.92400\n",
              "1   18    male  33.770         1     no  southeast   1725.55230\n",
              "2   28    male  33.000         3     no  southeast   4449.46200\n",
              "3   33    male  22.705         0     no  northwest  21984.47061\n",
              "4   32    male  28.880         0     no  northwest   3866.85520"
            ],
            "text/html": [
              "\n",
              "  <div id=\"df-06d592e1-c382-4c3e-8fc9-3927fb25d7e0\" class=\"colab-df-container\">\n",
              "    <div>\n",
              "<style scoped>\n",
              "    .dataframe tbody tr th:only-of-type {\n",
              "        vertical-align: middle;\n",
              "    }\n",
              "\n",
              "    .dataframe tbody tr th {\n",
              "        vertical-align: top;\n",
              "    }\n",
              "\n",
              "    .dataframe thead th {\n",
              "        text-align: right;\n",
              "    }\n",
              "</style>\n",
              "<table border=\"1\" class=\"dataframe\">\n",
              "  <thead>\n",
              "    <tr style=\"text-align: right;\">\n",
              "      <th></th>\n",
              "      <th>age</th>\n",
              "      <th>sex</th>\n",
              "      <th>bmi</th>\n",
              "      <th>children</th>\n",
              "      <th>smoker</th>\n",
              "      <th>region</th>\n",
              "      <th>charges</th>\n",
              "    </tr>\n",
              "  </thead>\n",
              "  <tbody>\n",
              "    <tr>\n",
              "      <th>0</th>\n",
              "      <td>19</td>\n",
              "      <td>female</td>\n",
              "      <td>27.900</td>\n",
              "      <td>0</td>\n",
              "      <td>yes</td>\n",
              "      <td>southwest</td>\n",
              "      <td>16884.92400</td>\n",
              "    </tr>\n",
              "    <tr>\n",
              "      <th>1</th>\n",
              "      <td>18</td>\n",
              "      <td>male</td>\n",
              "      <td>33.770</td>\n",
              "      <td>1</td>\n",
              "      <td>no</td>\n",
              "      <td>southeast</td>\n",
              "      <td>1725.55230</td>\n",
              "    </tr>\n",
              "    <tr>\n",
              "      <th>2</th>\n",
              "      <td>28</td>\n",
              "      <td>male</td>\n",
              "      <td>33.000</td>\n",
              "      <td>3</td>\n",
              "      <td>no</td>\n",
              "      <td>southeast</td>\n",
              "      <td>4449.46200</td>\n",
              "    </tr>\n",
              "    <tr>\n",
              "      <th>3</th>\n",
              "      <td>33</td>\n",
              "      <td>male</td>\n",
              "      <td>22.705</td>\n",
              "      <td>0</td>\n",
              "      <td>no</td>\n",
              "      <td>northwest</td>\n",
              "      <td>21984.47061</td>\n",
              "    </tr>\n",
              "    <tr>\n",
              "      <th>4</th>\n",
              "      <td>32</td>\n",
              "      <td>male</td>\n",
              "      <td>28.880</td>\n",
              "      <td>0</td>\n",
              "      <td>no</td>\n",
              "      <td>northwest</td>\n",
              "      <td>3866.85520</td>\n",
              "    </tr>\n",
              "  </tbody>\n",
              "</table>\n",
              "</div>\n",
              "    <div class=\"colab-df-buttons\">\n",
              "\n",
              "  <div class=\"colab-df-container\">\n",
              "    <button class=\"colab-df-convert\" onclick=\"convertToInteractive('df-06d592e1-c382-4c3e-8fc9-3927fb25d7e0')\"\n",
              "            title=\"Convert this dataframe to an interactive table.\"\n",
              "            style=\"display:none;\">\n",
              "\n",
              "  <svg xmlns=\"http://www.w3.org/2000/svg\" height=\"24px\" viewBox=\"0 -960 960 960\">\n",
              "    <path d=\"M120-120v-720h720v720H120Zm60-500h600v-160H180v160Zm220 220h160v-160H400v160Zm0 220h160v-160H400v160ZM180-400h160v-160H180v160Zm440 0h160v-160H620v160ZM180-180h160v-160H180v160Zm440 0h160v-160H620v160Z\"/>\n",
              "  </svg>\n",
              "    </button>\n",
              "\n",
              "  <style>\n",
              "    .colab-df-container {\n",
              "      display:flex;\n",
              "      gap: 12px;\n",
              "    }\n",
              "\n",
              "    .colab-df-convert {\n",
              "      background-color: #E8F0FE;\n",
              "      border: none;\n",
              "      border-radius: 50%;\n",
              "      cursor: pointer;\n",
              "      display: none;\n",
              "      fill: #1967D2;\n",
              "      height: 32px;\n",
              "      padding: 0 0 0 0;\n",
              "      width: 32px;\n",
              "    }\n",
              "\n",
              "    .colab-df-convert:hover {\n",
              "      background-color: #E2EBFA;\n",
              "      box-shadow: 0px 1px 2px rgba(60, 64, 67, 0.3), 0px 1px 3px 1px rgba(60, 64, 67, 0.15);\n",
              "      fill: #174EA6;\n",
              "    }\n",
              "\n",
              "    .colab-df-buttons div {\n",
              "      margin-bottom: 4px;\n",
              "    }\n",
              "\n",
              "    [theme=dark] .colab-df-convert {\n",
              "      background-color: #3B4455;\n",
              "      fill: #D2E3FC;\n",
              "    }\n",
              "\n",
              "    [theme=dark] .colab-df-convert:hover {\n",
              "      background-color: #434B5C;\n",
              "      box-shadow: 0px 1px 3px 1px rgba(0, 0, 0, 0.15);\n",
              "      filter: drop-shadow(0px 1px 2px rgba(0, 0, 0, 0.3));\n",
              "      fill: #FFFFFF;\n",
              "    }\n",
              "  </style>\n",
              "\n",
              "    <script>\n",
              "      const buttonEl =\n",
              "        document.querySelector('#df-06d592e1-c382-4c3e-8fc9-3927fb25d7e0 button.colab-df-convert');\n",
              "      buttonEl.style.display =\n",
              "        google.colab.kernel.accessAllowed ? 'block' : 'none';\n",
              "\n",
              "      async function convertToInteractive(key) {\n",
              "        const element = document.querySelector('#df-06d592e1-c382-4c3e-8fc9-3927fb25d7e0');\n",
              "        const dataTable =\n",
              "          await google.colab.kernel.invokeFunction('convertToInteractive',\n",
              "                                                    [key], {});\n",
              "        if (!dataTable) return;\n",
              "\n",
              "        const docLinkHtml = 'Like what you see? Visit the ' +\n",
              "          '<a target=\"_blank\" href=https://colab.research.google.com/notebooks/data_table.ipynb>data table notebook</a>'\n",
              "          + ' to learn more about interactive tables.';\n",
              "        element.innerHTML = '';\n",
              "        dataTable['output_type'] = 'display_data';\n",
              "        await google.colab.output.renderOutput(dataTable, element);\n",
              "        const docLink = document.createElement('div');\n",
              "        docLink.innerHTML = docLinkHtml;\n",
              "        element.appendChild(docLink);\n",
              "      }\n",
              "    </script>\n",
              "  </div>\n",
              "\n",
              "\n",
              "    <div id=\"df-8a867de1-5b40-434b-a616-e57e511e8079\">\n",
              "      <button class=\"colab-df-quickchart\" onclick=\"quickchart('df-8a867de1-5b40-434b-a616-e57e511e8079')\"\n",
              "                title=\"Suggest charts\"\n",
              "                style=\"display:none;\">\n",
              "\n",
              "<svg xmlns=\"http://www.w3.org/2000/svg\" height=\"24px\"viewBox=\"0 0 24 24\"\n",
              "     width=\"24px\">\n",
              "    <g>\n",
              "        <path d=\"M19 3H5c-1.1 0-2 .9-2 2v14c0 1.1.9 2 2 2h14c1.1 0 2-.9 2-2V5c0-1.1-.9-2-2-2zM9 17H7v-7h2v7zm4 0h-2V7h2v10zm4 0h-2v-4h2v4z\"/>\n",
              "    </g>\n",
              "</svg>\n",
              "      </button>\n",
              "\n",
              "<style>\n",
              "  .colab-df-quickchart {\n",
              "      --bg-color: #E8F0FE;\n",
              "      --fill-color: #1967D2;\n",
              "      --hover-bg-color: #E2EBFA;\n",
              "      --hover-fill-color: #174EA6;\n",
              "      --disabled-fill-color: #AAA;\n",
              "      --disabled-bg-color: #DDD;\n",
              "  }\n",
              "\n",
              "  [theme=dark] .colab-df-quickchart {\n",
              "      --bg-color: #3B4455;\n",
              "      --fill-color: #D2E3FC;\n",
              "      --hover-bg-color: #434B5C;\n",
              "      --hover-fill-color: #FFFFFF;\n",
              "      --disabled-bg-color: #3B4455;\n",
              "      --disabled-fill-color: #666;\n",
              "  }\n",
              "\n",
              "  .colab-df-quickchart {\n",
              "    background-color: var(--bg-color);\n",
              "    border: none;\n",
              "    border-radius: 50%;\n",
              "    cursor: pointer;\n",
              "    display: none;\n",
              "    fill: var(--fill-color);\n",
              "    height: 32px;\n",
              "    padding: 0;\n",
              "    width: 32px;\n",
              "  }\n",
              "\n",
              "  .colab-df-quickchart:hover {\n",
              "    background-color: var(--hover-bg-color);\n",
              "    box-shadow: 0 1px 2px rgba(60, 64, 67, 0.3), 0 1px 3px 1px rgba(60, 64, 67, 0.15);\n",
              "    fill: var(--button-hover-fill-color);\n",
              "  }\n",
              "\n",
              "  .colab-df-quickchart-complete:disabled,\n",
              "  .colab-df-quickchart-complete:disabled:hover {\n",
              "    background-color: var(--disabled-bg-color);\n",
              "    fill: var(--disabled-fill-color);\n",
              "    box-shadow: none;\n",
              "  }\n",
              "\n",
              "  .colab-df-spinner {\n",
              "    border: 2px solid var(--fill-color);\n",
              "    border-color: transparent;\n",
              "    border-bottom-color: var(--fill-color);\n",
              "    animation:\n",
              "      spin 1s steps(1) infinite;\n",
              "  }\n",
              "\n",
              "  @keyframes spin {\n",
              "    0% {\n",
              "      border-color: transparent;\n",
              "      border-bottom-color: var(--fill-color);\n",
              "      border-left-color: var(--fill-color);\n",
              "    }\n",
              "    20% {\n",
              "      border-color: transparent;\n",
              "      border-left-color: var(--fill-color);\n",
              "      border-top-color: var(--fill-color);\n",
              "    }\n",
              "    30% {\n",
              "      border-color: transparent;\n",
              "      border-left-color: var(--fill-color);\n",
              "      border-top-color: var(--fill-color);\n",
              "      border-right-color: var(--fill-color);\n",
              "    }\n",
              "    40% {\n",
              "      border-color: transparent;\n",
              "      border-right-color: var(--fill-color);\n",
              "      border-top-color: var(--fill-color);\n",
              "    }\n",
              "    60% {\n",
              "      border-color: transparent;\n",
              "      border-right-color: var(--fill-color);\n",
              "    }\n",
              "    80% {\n",
              "      border-color: transparent;\n",
              "      border-right-color: var(--fill-color);\n",
              "      border-bottom-color: var(--fill-color);\n",
              "    }\n",
              "    90% {\n",
              "      border-color: transparent;\n",
              "      border-bottom-color: var(--fill-color);\n",
              "    }\n",
              "  }\n",
              "</style>\n",
              "\n",
              "      <script>\n",
              "        async function quickchart(key) {\n",
              "          const quickchartButtonEl =\n",
              "            document.querySelector('#' + key + ' button');\n",
              "          quickchartButtonEl.disabled = true;  // To prevent multiple clicks.\n",
              "          quickchartButtonEl.classList.add('colab-df-spinner');\n",
              "          try {\n",
              "            const charts = await google.colab.kernel.invokeFunction(\n",
              "                'suggestCharts', [key], {});\n",
              "          } catch (error) {\n",
              "            console.error('Error during call to suggestCharts:', error);\n",
              "          }\n",
              "          quickchartButtonEl.classList.remove('colab-df-spinner');\n",
              "          quickchartButtonEl.classList.add('colab-df-quickchart-complete');\n",
              "        }\n",
              "        (() => {\n",
              "          let quickchartButtonEl =\n",
              "            document.querySelector('#df-8a867de1-5b40-434b-a616-e57e511e8079 button');\n",
              "          quickchartButtonEl.style.display =\n",
              "            google.colab.kernel.accessAllowed ? 'block' : 'none';\n",
              "        })();\n",
              "      </script>\n",
              "    </div>\n",
              "\n",
              "    </div>\n",
              "  </div>\n"
            ],
            "application/vnd.google.colaboratory.intrinsic+json": {
              "type": "dataframe",
              "summary": "{\n  \"name\": \"print('------------------------')\",\n  \"rows\": 5,\n  \"fields\": [\n    {\n      \"column\": \"age\",\n      \"properties\": {\n        \"dtype\": \"number\",\n        \"std\": 7,\n        \"min\": 18,\n        \"max\": 33,\n        \"num_unique_values\": 5,\n        \"samples\": [\n          18,\n          32,\n          28\n        ],\n        \"semantic_type\": \"\",\n        \"description\": \"\"\n      }\n    },\n    {\n      \"column\": \"sex\",\n      \"properties\": {\n        \"dtype\": \"category\",\n        \"num_unique_values\": 2,\n        \"samples\": [\n          \"male\",\n          \"female\"\n        ],\n        \"semantic_type\": \"\",\n        \"description\": \"\"\n      }\n    },\n    {\n      \"column\": \"bmi\",\n      \"properties\": {\n        \"dtype\": \"number\",\n        \"std\": 4.4522275323707365,\n        \"min\": 22.705,\n        \"max\": 33.77,\n        \"num_unique_values\": 5,\n        \"samples\": [\n          33.77,\n          28.88\n        ],\n        \"semantic_type\": \"\",\n        \"description\": \"\"\n      }\n    },\n    {\n      \"column\": \"children\",\n      \"properties\": {\n        \"dtype\": \"number\",\n        \"std\": 1,\n        \"min\": 0,\n        \"max\": 3,\n        \"num_unique_values\": 3,\n        \"samples\": [\n          0,\n          1\n        ],\n        \"semantic_type\": \"\",\n        \"description\": \"\"\n      }\n    },\n    {\n      \"column\": \"smoker\",\n      \"properties\": {\n        \"dtype\": \"category\",\n        \"num_unique_values\": 2,\n        \"samples\": [\n          \"no\",\n          \"yes\"\n        ],\n        \"semantic_type\": \"\",\n        \"description\": \"\"\n      }\n    },\n    {\n      \"column\": \"region\",\n      \"properties\": {\n        \"dtype\": \"string\",\n        \"num_unique_values\": 3,\n        \"samples\": [\n          \"southwest\",\n          \"southeast\"\n        ],\n        \"semantic_type\": \"\",\n        \"description\": \"\"\n      }\n    },\n    {\n      \"column\": \"charges\",\n      \"properties\": {\n        \"dtype\": \"number\",\n        \"std\": 9051.009157648406,\n        \"min\": 1725.5523,\n        \"max\": 21984.47061,\n        \"num_unique_values\": 5,\n        \"samples\": [\n          1725.5523,\n          3866.8552\n        ],\n        \"semantic_type\": \"\",\n        \"description\": \"\"\n      }\n    }\n  ]\n}"
            }
          },
          "metadata": {}
        },
        {
          "output_type": "stream",
          "name": "stdout",
          "text": [
            "------------------------\n"
          ]
        },
        {
          "output_type": "display_data",
          "data": {
            "text/plain": [
              "age           int64\n",
              "sex          object\n",
              "bmi         float64\n",
              "children      int64\n",
              "smoker       object\n",
              "region       object\n",
              "charges     float64\n",
              "dtype: object"
            ],
            "text/html": [
              "<div>\n",
              "<style scoped>\n",
              "    .dataframe tbody tr th:only-of-type {\n",
              "        vertical-align: middle;\n",
              "    }\n",
              "\n",
              "    .dataframe tbody tr th {\n",
              "        vertical-align: top;\n",
              "    }\n",
              "\n",
              "    .dataframe thead th {\n",
              "        text-align: right;\n",
              "    }\n",
              "</style>\n",
              "<table border=\"1\" class=\"dataframe\">\n",
              "  <thead>\n",
              "    <tr style=\"text-align: right;\">\n",
              "      <th></th>\n",
              "      <th>0</th>\n",
              "    </tr>\n",
              "  </thead>\n",
              "  <tbody>\n",
              "    <tr>\n",
              "      <th>age</th>\n",
              "      <td>int64</td>\n",
              "    </tr>\n",
              "    <tr>\n",
              "      <th>sex</th>\n",
              "      <td>object</td>\n",
              "    </tr>\n",
              "    <tr>\n",
              "      <th>bmi</th>\n",
              "      <td>float64</td>\n",
              "    </tr>\n",
              "    <tr>\n",
              "      <th>children</th>\n",
              "      <td>int64</td>\n",
              "    </tr>\n",
              "    <tr>\n",
              "      <th>smoker</th>\n",
              "      <td>object</td>\n",
              "    </tr>\n",
              "    <tr>\n",
              "      <th>region</th>\n",
              "      <td>object</td>\n",
              "    </tr>\n",
              "    <tr>\n",
              "      <th>charges</th>\n",
              "      <td>float64</td>\n",
              "    </tr>\n",
              "  </tbody>\n",
              "</table>\n",
              "</div><br><label><b>dtype:</b> object</label>"
            ]
          },
          "metadata": {}
        },
        {
          "output_type": "stream",
          "name": "stdout",
          "text": [
            "------------------------\n"
          ]
        }
      ]
    },
    {
      "cell_type": "markdown",
      "source": [
        "#### La pregunta es, ¿qué datos numéricos necesitarían ser normalizados y estandarizados?\n",
        "\n",
        "### **Detección de outliers: Boxplots**\n",
        "\n"
      ],
      "metadata": {
        "id": "fPGIU70ids1W"
      }
    },
    {
      "cell_type": "code",
      "source": [
        "fig, axs = plt.subplots(2, 2, figsize=(12, 8))\n",
        "fig.suptitle('Boxplots de las variables numéricas', fontsize=16, color='b')\n",
        "plt.tight_layout(pad=4.0)\n",
        "\n",
        "\n",
        "#age\n",
        "axs[0, 0].boxplot(df['age'])\n",
        "axs[0, 0].set_title('Boxplot de la columna \"age\"', color='r')\n",
        "axs[0, 0].set_xlabel('Edad')\n",
        "\n",
        "#bmi\n",
        "axs[0, 1].boxplot(df['bmi'])\n",
        "axs[0, 1].set_title('Boxplot de la columna \"bmi\"', color='r')\n",
        "axs[0, 1].set_xlabel('BMI')\n",
        "\n",
        "#children\n",
        "axs[1, 0].boxplot(df['children'])\n",
        "axs[1, 0].set_title('Boxplot de la columna \"children\"', color='r')\n",
        "axs[1, 0].set_xlabel('Children')\n",
        "\n",
        "#charges\n",
        "axs[1, 1].boxplot(df['charges'])\n",
        "axs[1, 1].set_title('Boxplot de la columna \"charges\"', color='r')\n",
        "axs[1, 1].set_xlabel('Charges')\n",
        "\n",
        "\n",
        "plt.show()\n",
        "\n"
      ],
      "metadata": {
        "colab": {
          "base_uri": "https://localhost:8080/",
          "height": 785
        },
        "id": "BhigBCqvd92o",
        "outputId": "758e87db-f1e2-465a-ce3a-5a850ad1d021"
      },
      "execution_count": null,
      "outputs": [
        {
          "output_type": "display_data",
          "data": {
            "text/plain": [
              "<Figure size 1200x800 with 4 Axes>"
            ],
            "image/png": "[encoded data removed]"
          },
          "metadata": {}
        }
      ]
    },
    {
      "cell_type": "markdown",
      "source": [
        "### **¿Qué hacer con los outliers?**\n",
        "\n",
        "-  Las columnas cuyos valores son de formato numérico y presentan outliers son BMI y Charges.\n",
        "\n",
        "-  Quitar estos valores puede hacer que se pierda información valiosa para poder analizar el costo total de un seguro médico, por ello, en este caso no es una buena opción eliminar estos valores.\n",
        "\n",
        "-  Se puede estandarizar la columna para evitar los outliers. La estandarización puede mejorar la comparación de los datos para introducirlos a un modelo sensible a outliers como **K-means**, aunque los datos pueden ser más complicados de interpretar."
      ],
      "metadata": {
        "id": "89KH5OLbjiGY"
      }
    },
    {
      "cell_type": "code",
      "source": [
        "from sklearn.preprocessing import MinMaxScaler\n",
        "from sklearn.preprocessing import StandardScaler\n",
        "\n",
        "#Normalización de los valores de las columnas 'charges' y 'bmi':\n",
        "scaler1 = MinMaxScaler()\n",
        "df[['charges', 'bmi']] = scaler1.fit_transform(df[['charges', 'bmi']])\n",
        "\n",
        "#Estandarización de los valores de las columnas 'charges' y 'bmi':\n",
        "scaler2 = StandardScaler()\n",
        "df[['charges', 'bmi']] = scaler2.fit_transform(df[['charges', 'bmi']])\n"
      ],
      "metadata": {
        "id": "OA0j8maLjnMt"
      },
      "execution_count": null,
      "outputs": []
    },
    {
      "cell_type": "code",
      "source": [
        "plt.boxplot(df['bmi'])\n",
        "plt.title('Boxplot de la columna BMI estandarizada')\n",
        "plt.show()\n",
        "\n",
        "plt.boxplot(df['charges'])\n",
        "plt.title('Boxplot de la columna Charges estandarizada')\n",
        "plt.show()"
      ],
      "metadata": {
        "colab": {
          "base_uri": "https://localhost:8080/",
          "height": 887
        },
        "id": "4wScHaVnENp-",
        "outputId": "15008edd-cf95-4c11-d11d-e5640f127b4f"
      },
      "execution_count": null,
      "outputs": [
        {
          "output_type": "display_data",
          "data": {
            "text/plain": [
              "<Figure size 640x480 with 1 Axes>"
            ],
            "image/png": "[encoded data removed]"
          },
          "metadata": {}
        },
        {
          "output_type": "display_data",
          "data": {
            "text/plain": [
              "<Figure size 640x480 with 1 Axes>"
            ],
            "image/png": "[encoded data removed]"
          },
          "metadata": {}
        }
      ]
    },
    {
      "cell_type": "markdown",
      "source": [
        "Las columnas 'bmi' y 'charges' siguen presentado outliers, por lo que estos datos pueden ser errores de imputación o ser datos extremadamente atípicos que aún es importante mantener, pues como se mencionó, estos datos pueden ser cruciales para obtener información sobre los costos del seguro."
      ],
      "metadata": {
        "id": "qLQqfg9CMTQe"
      }
    },
    {
      "cell_type": "code",
      "source": [
        "df['log_charges'] = np.log(df['charges'])\n"
      ],
      "metadata": {
        "id": "ZAkFyMg6MUDa",
        "colab": {
          "base_uri": "https://localhost:8080/"
        },
        "outputId": "05a39f4f-3864-491d-fec7-a6fe7941455f"
      },
      "execution_count": null,
      "outputs": [
        {
          "output_type": "stream",
          "name": "stderr",
          "text": [
            "/usr/local/lib/python3.12/dist-packages/pandas/core/arraylike.py:399: RuntimeWarning: invalid value encountered in log\n",
            "  result = getattr(ufunc, method)(*inputs, **kwargs)\n"
          ]
        }
      ]
    },
    {
      "cell_type": "code",
      "source": [
        "df.query('charges <0').shape"
      ],
      "metadata": {
        "colab": {
          "base_uri": "https://localhost:8080/"
        },
        "id": "nkZBxz4zOUyh",
        "outputId": "794c6dcd-e578-4b11-c54e-fba3c9ce84f2"
      },
      "execution_count": null,
      "outputs": [
        {
          "output_type": "execute_result",
          "data": {
            "text/plain": [
              "(918, 8)"
            ]
          },
          "metadata": {},
          "execution_count": 29
        }
      ]
    },
    {
      "cell_type": "code",
      "source": [],
      "metadata": {
        "id": "uwKf6ECLPkHD"
      },
      "execution_count": null,
      "outputs": []
    }
  ]
}